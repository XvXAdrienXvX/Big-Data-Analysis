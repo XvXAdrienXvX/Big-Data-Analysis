{
 "cells": [
  {
   "cell_type": "markdown",
   "metadata": {},
   "source": [
    "### Objective\n",
    "\n",
    "To gain hands-on experience in:\n",
    "\n",
    "- Extracting semi-structured data from a public web source (Google Play Store).\n",
    "- Implementing a basic, automated data ingestion pipeline using serverless cloud functions (Azure Functions or AWS Lambda) and cloud storage.\n",
    "\n",
    "---\n",
    "\n",
    "### Core Components\n",
    "\n",
    "#### 1. Python Scraper\n",
    "- Utilizes the `google-play-scraper` library to retrieve app details and reviews.\n",
    "(https://pypi.org/project/google-play-scraper/)\n",
    "\n",
    "#### 2. Cloud Automation\n",
    "- **Option A**: AWS Lambda  \n",
    "  - Triggered by EventBridge or CloudWatch Events.\n",
    "- **Option B**: Azure Functions  \n",
    "  - Uses a Timer Trigger.\n",
    "\n",
    "#### 3. Cloud Storage\n",
    "- **Option A**: AWS S3 (for use with Lambda)\n",
    "- **Option B**: Azure Blob Storage (for use with Azure Functions)\n"
   ]
  }
 ],
 "metadata": {
  "language_info": {
   "name": "python"
  }
 },
 "nbformat": 4,
 "nbformat_minor": 2
}
