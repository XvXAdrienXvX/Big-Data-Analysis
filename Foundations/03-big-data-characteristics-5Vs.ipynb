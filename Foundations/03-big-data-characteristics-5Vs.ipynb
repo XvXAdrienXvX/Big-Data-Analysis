{
 "cells": [
  {
   "cell_type": "markdown",
   "metadata": {},
   "source": [
    "# 5Vs of Big Data\n",
    "\n",
    "Big Data is characterized by the following five dimensions, often referred to as the 5Vs:\n",
    "\n",
    "1. **Volume**\n",
    "    - The amount of data generated and stored.\n",
    "    - **Example**: Social media platforms like Facebook generate terabytes of data every day from user interactions, posts, and multimedia uploads.\n",
    "\n",
    "2. **Velocity**\n",
    "    - The speed at which data is generated, processed, and analyzed.\n",
    "    - **Example**: Stock market data is generated and processed in real-time to make quick trading decisions.\n",
    "\n",
    "3. **Variety**\n",
    "    -  The different types of data (structured, semi-structured, and unstructured) from various sources.\n",
    "    - **Example**: Emails, social media posts, videos, sensor data, and transaction records all represent different data types.\n",
    "\n",
    "4. **Veracity**\n",
    "    - The quality and accuracy of the data.\n",
    "    - **Example**: Data from social media can be unreliable and may contain false information, requiring validation and cleaning.\n",
    "\n",
    "5. **Value**\n",
    "    - The usefulness and insights derived from the data.\n",
    "    - **Example**: Analyzing customer purchase history to provide personalized recommendations and improve sales.\n"
   ]
  }
 ],
 "metadata": {
  "language_info": {
   "name": "python"
  }
 },
 "nbformat": 4,
 "nbformat_minor": 2
}
